{
 "cells": [
  {
   "cell_type": "markdown",
   "metadata": {},
   "source": [
    "# GDMA - Assignment 3"
   ]
  },
  {
   "cell_type": "markdown",
   "metadata": {
    "tags": []
   },
   "source": [
    "Author: Julian Schelb (1069967)"
   ]
  },
  {
   "cell_type": "code",
   "execution_count": 1,
   "metadata": {},
   "outputs": [],
   "source": [
    "from neo4j import GraphDatabase\n",
    "import matplotlib.pyplot as plt\n",
    "import pandas as pd"
   ]
  },
  {
   "cell_type": "markdown",
   "metadata": {},
   "source": [
    "### Connection to the database instance"
   ]
  },
  {
   "cell_type": "code",
   "execution_count": 2,
   "metadata": {},
   "outputs": [],
   "source": [
    "driver = GraphDatabase.driver(\"bolt://localhost:7687\", auth=(\"neo4j\", \"subatomic-shrank-Respond\"))\n",
    "session = driver.session()"
   ]
  },
  {
   "cell_type": "markdown",
   "metadata": {},
   "source": [
    "\n"
   ]
  },
  {
   "cell_type": "markdown",
   "metadata": {
    "tags": []
   },
   "source": [
    "### Question 1\n",
    "\n",
    "Import the graph from the attached karate.csv file. Then, using functions from the Graph Data Science Library (GDS), write Cypher queries to compute the Betweenness, Closeness, and Eigenvector centrality of each\n",
    "node. You can find the full description of the functions at:\n",
    "\n",
    "https://neo4j.com/docs/graph-data-science/current/algorithms/centrality/"
   ]
  },
  {
   "cell_type": "markdown",
   "metadata": {},
   "source": [
    "**Delete Existing Data:**"
   ]
  },
  {
   "cell_type": "code",
   "execution_count": 3,
   "metadata": {},
   "outputs": [],
   "source": [
    "query = \"\"\"\n",
    "match (a) delete a\n",
    "\"\"\"\n",
    "\n",
    "with driver.session() as session:\n",
    "    result = session.run(query)\n",
    "    \n",
    "    \n",
    "query = \"\"\"\n",
    "match (a) -[r] -> () delete a, r\n",
    "\"\"\"\n",
    "\n",
    "with driver.session() as session:\n",
    "    result = session.run(query)\n",
    "    "
   ]
  },
  {
   "cell_type": "markdown",
   "metadata": {},
   "source": [
    "**Import Data:**"
   ]
  },
  {
   "cell_type": "code",
   "execution_count": 4,
   "metadata": {},
   "outputs": [],
   "source": [
    "query = \"\"\"\n",
    "LOAD CSV FROM 'file:///karate.csv' AS row FIELDTERMINATOR ';'\n",
    "WITH row[0] as sourceId, row[1] as targetId\n",
    "MERGE (s:Node {id: sourceId})\n",
    "MERGE (t:Node {id: targetId})\n",
    "MERGE (s)-[:RELATED_TO]->(t)   \n",
    "RETURN s, t\n",
    "\"\"\"\n",
    "\n",
    "with driver.session() as session:\n",
    "    result = session.run(query)"
   ]
  },
  {
   "cell_type": "markdown",
   "metadata": {},
   "source": [
    "**Create In-Memory Graph Projection:**"
   ]
  },
  {
   "cell_type": "code",
   "execution_count": 5,
   "metadata": {},
   "outputs": [],
   "source": [
    "query = \"\"\"\n",
    "CALL gds.graph.drop('tmpGraph', false) \n",
    "\"\"\"\n",
    "\n",
    "with driver.session() as session:\n",
    "    result = session.run(query)\n",
    "    \n",
    "query = \"\"\"\n",
    "CALL gds.graph.project('tmpGraph', 'Node', 'RELATED_TO')\n",
    "\"\"\"\n",
    "\n",
    "with driver.session() as session:\n",
    "    result = session.run(query)"
   ]
  },
  {
   "cell_type": "markdown",
   "metadata": {},
   "source": [
    "**Betweenness Centrality:**"
   ]
  },
  {
   "cell_type": "code",
   "execution_count": 6,
   "metadata": {},
   "outputs": [
    {
     "data": {
      "text/html": [
       "<div>\n",
       "<style scoped>\n",
       "    .dataframe tbody tr th:only-of-type {\n",
       "        vertical-align: middle;\n",
       "    }\n",
       "\n",
       "    .dataframe tbody tr th {\n",
       "        vertical-align: top;\n",
       "    }\n",
       "\n",
       "    .dataframe thead th {\n",
       "        text-align: right;\n",
       "    }\n",
       "</style>\n",
       "<table border=\"1\" class=\"dataframe\">\n",
       "  <thead>\n",
       "    <tr style=\"text-align: right;\">\n",
       "      <th></th>\n",
       "      <th>n.id</th>\n",
       "      <th>score</th>\n",
       "    </tr>\n",
       "  </thead>\n",
       "  <tbody>\n",
       "    <tr>\n",
       "      <th>0</th>\n",
       "      <td>3</td>\n",
       "      <td>8.833333</td>\n",
       "    </tr>\n",
       "    <tr>\n",
       "      <th>1</th>\n",
       "      <td>32</td>\n",
       "      <td>5.083333</td>\n",
       "    </tr>\n",
       "    <tr>\n",
       "      <th>2</th>\n",
       "      <td>9</td>\n",
       "      <td>2.250000</td>\n",
       "    </tr>\n",
       "    <tr>\n",
       "      <th>3</th>\n",
       "      <td>29</td>\n",
       "      <td>2.166667</td>\n",
       "    </tr>\n",
       "    <tr>\n",
       "      <th>4</th>\n",
       "      <td>4</td>\n",
       "      <td>2.000000</td>\n",
       "    </tr>\n",
       "  </tbody>\n",
       "</table>\n",
       "</div>"
      ],
      "text/plain": [
       "  n.id     score\n",
       "0    3  8.833333\n",
       "1   32  5.083333\n",
       "2    9  2.250000\n",
       "3   29  2.166667\n",
       "4    4  2.000000"
      ]
     },
     "execution_count": 6,
     "metadata": {},
     "output_type": "execute_result"
    }
   ],
   "source": [
    "query = \"\"\"\n",
    "CALL gds.betweenness.stream('tmpGraph')\n",
    "YIELD nodeId, score\n",
    "WITH gds.util.asNode(nodeId).id AS nodeId, score\n",
    "MATCH (n:Node) \n",
    "WHERE  n.id = nodeId\n",
    "SET n.betweenness = score\n",
    "RETURN n.id, score\n",
    "ORDER BY score DESC\n",
    "\"\"\"\n",
    "\n",
    "dtf_data = pd.DataFrame([dict(_) for _ in session.run(query)])\n",
    "dtf_data.head()"
   ]
  },
  {
   "cell_type": "markdown",
   "metadata": {},
   "source": [
    "**Eigenvector Centrality:**"
   ]
  },
  {
   "cell_type": "code",
   "execution_count": 7,
   "metadata": {},
   "outputs": [
    {
     "data": {
      "text/html": [
       "<div>\n",
       "<style scoped>\n",
       "    .dataframe tbody tr th:only-of-type {\n",
       "        vertical-align: middle;\n",
       "    }\n",
       "\n",
       "    .dataframe tbody tr th {\n",
       "        vertical-align: top;\n",
       "    }\n",
       "\n",
       "    .dataframe thead th {\n",
       "        text-align: right;\n",
       "    }\n",
       "</style>\n",
       "<table border=\"1\" class=\"dataframe\">\n",
       "  <thead>\n",
       "    <tr style=\"text-align: right;\">\n",
       "      <th></th>\n",
       "      <th>n.id</th>\n",
       "      <th>score</th>\n",
       "    </tr>\n",
       "  </thead>\n",
       "  <tbody>\n",
       "    <tr>\n",
       "      <th>0</th>\n",
       "      <td>34</td>\n",
       "      <td>0.993455</td>\n",
       "    </tr>\n",
       "    <tr>\n",
       "      <th>1</th>\n",
       "      <td>33</td>\n",
       "      <td>0.113378</td>\n",
       "    </tr>\n",
       "    <tr>\n",
       "      <th>2</th>\n",
       "      <td>14</td>\n",
       "      <td>0.006594</td>\n",
       "    </tr>\n",
       "    <tr>\n",
       "      <th>3</th>\n",
       "      <td>8</td>\n",
       "      <td>0.006594</td>\n",
       "    </tr>\n",
       "    <tr>\n",
       "      <th>4</th>\n",
       "      <td>13</td>\n",
       "      <td>0.006138</td>\n",
       "    </tr>\n",
       "  </tbody>\n",
       "</table>\n",
       "</div>"
      ],
      "text/plain": [
       "  n.id     score\n",
       "0   34  0.993455\n",
       "1   33  0.113378\n",
       "2   14  0.006594\n",
       "3    8  0.006594\n",
       "4   13  0.006138"
      ]
     },
     "execution_count": 7,
     "metadata": {},
     "output_type": "execute_result"
    }
   ],
   "source": [
    "query = \"\"\"\n",
    "CALL gds.eigenvector.stream('tmpGraph')\n",
    "YIELD nodeId, score\n",
    "WITH gds.util.asNode(nodeId).id AS nodeId, score\n",
    "MATCH (n:Node) \n",
    "WHERE  n.id = nodeId\n",
    "SET n.eigenvector = score\n",
    "RETURN n.id, score\n",
    "ORDER BY score DESC\n",
    "\"\"\"\n",
    "dtf_data = pd.DataFrame([dict(_) for _ in session.run(query)])\n",
    "dtf_data.head()"
   ]
  },
  {
   "cell_type": "markdown",
   "metadata": {},
   "source": [
    "**Closeness Centrality:**"
   ]
  },
  {
   "cell_type": "code",
   "execution_count": 8,
   "metadata": {},
   "outputs": [
    {
     "data": {
      "text/html": [
       "<div>\n",
       "<style scoped>\n",
       "    .dataframe tbody tr th:only-of-type {\n",
       "        vertical-align: middle;\n",
       "    }\n",
       "\n",
       "    .dataframe tbody tr th {\n",
       "        vertical-align: top;\n",
       "    }\n",
       "\n",
       "    .dataframe thead th {\n",
       "        text-align: right;\n",
       "    }\n",
       "</style>\n",
       "<table border=\"1\" class=\"dataframe\">\n",
       "  <thead>\n",
       "    <tr style=\"text-align: right;\">\n",
       "      <th></th>\n",
       "      <th>n.id</th>\n",
       "      <th>score</th>\n",
       "    </tr>\n",
       "  </thead>\n",
       "  <tbody>\n",
       "    <tr>\n",
       "      <th>0</th>\n",
       "      <td>30</td>\n",
       "      <td>1.000000</td>\n",
       "    </tr>\n",
       "    <tr>\n",
       "      <th>1</th>\n",
       "      <td>14</td>\n",
       "      <td>1.000000</td>\n",
       "    </tr>\n",
       "    <tr>\n",
       "      <th>2</th>\n",
       "      <td>20</td>\n",
       "      <td>1.000000</td>\n",
       "    </tr>\n",
       "    <tr>\n",
       "      <th>3</th>\n",
       "      <td>11</td>\n",
       "      <td>1.000000</td>\n",
       "    </tr>\n",
       "    <tr>\n",
       "      <th>4</th>\n",
       "      <td>12</td>\n",
       "      <td>1.000000</td>\n",
       "    </tr>\n",
       "    <tr>\n",
       "      <th>5</th>\n",
       "      <td>18</td>\n",
       "      <td>1.000000</td>\n",
       "    </tr>\n",
       "    <tr>\n",
       "      <th>6</th>\n",
       "      <td>2</td>\n",
       "      <td>1.000000</td>\n",
       "    </tr>\n",
       "    <tr>\n",
       "      <th>7</th>\n",
       "      <td>3</td>\n",
       "      <td>1.000000</td>\n",
       "    </tr>\n",
       "    <tr>\n",
       "      <th>8</th>\n",
       "      <td>5</td>\n",
       "      <td>1.000000</td>\n",
       "    </tr>\n",
       "    <tr>\n",
       "      <th>9</th>\n",
       "      <td>6</td>\n",
       "      <td>1.000000</td>\n",
       "    </tr>\n",
       "    <tr>\n",
       "      <th>10</th>\n",
       "      <td>4</td>\n",
       "      <td>1.000000</td>\n",
       "    </tr>\n",
       "    <tr>\n",
       "      <th>11</th>\n",
       "      <td>7</td>\n",
       "      <td>1.000000</td>\n",
       "    </tr>\n",
       "    <tr>\n",
       "      <th>12</th>\n",
       "      <td>26</td>\n",
       "      <td>1.000000</td>\n",
       "    </tr>\n",
       "    <tr>\n",
       "      <th>13</th>\n",
       "      <td>8</td>\n",
       "      <td>1.000000</td>\n",
       "    </tr>\n",
       "    <tr>\n",
       "      <th>14</th>\n",
       "      <td>22</td>\n",
       "      <td>1.000000</td>\n",
       "    </tr>\n",
       "    <tr>\n",
       "      <th>15</th>\n",
       "      <td>34</td>\n",
       "      <td>0.793103</td>\n",
       "    </tr>\n",
       "    <tr>\n",
       "      <th>16</th>\n",
       "      <td>9</td>\n",
       "      <td>0.750000</td>\n",
       "    </tr>\n",
       "    <tr>\n",
       "      <th>17</th>\n",
       "      <td>33</td>\n",
       "      <td>0.739130</td>\n",
       "    </tr>\n",
       "    <tr>\n",
       "      <th>18</th>\n",
       "      <td>28</td>\n",
       "      <td>0.714286</td>\n",
       "    </tr>\n",
       "    <tr>\n",
       "      <th>19</th>\n",
       "      <td>31</td>\n",
       "      <td>0.666667</td>\n",
       "    </tr>\n",
       "  </tbody>\n",
       "</table>\n",
       "</div>"
      ],
      "text/plain": [
       "   n.id     score\n",
       "0    30  1.000000\n",
       "1    14  1.000000\n",
       "2    20  1.000000\n",
       "3    11  1.000000\n",
       "4    12  1.000000\n",
       "5    18  1.000000\n",
       "6     2  1.000000\n",
       "7     3  1.000000\n",
       "8     5  1.000000\n",
       "9     6  1.000000\n",
       "10    4  1.000000\n",
       "11    7  1.000000\n",
       "12   26  1.000000\n",
       "13    8  1.000000\n",
       "14   22  1.000000\n",
       "15   34  0.793103\n",
       "16    9  0.750000\n",
       "17   33  0.739130\n",
       "18   28  0.714286\n",
       "19   31  0.666667"
      ]
     },
     "execution_count": 8,
     "metadata": {},
     "output_type": "execute_result"
    }
   ],
   "source": [
    "query = \"\"\"\n",
    "CALL gds.beta.closeness.stream('tmpGraph')\n",
    "YIELD nodeId, score\n",
    "WITH gds.util.asNode(nodeId).id AS nodeId, score\n",
    "MATCH (n:Node) \n",
    "WHERE  n.id = nodeId\n",
    "SET n.closeness = score\n",
    "RETURN n.id, score\n",
    "ORDER BY score DESC\n",
    "\"\"\"\n",
    "dtf_data = pd.DataFrame([dict(_) for _ in session.run(query)])\n",
    "dtf_data.head(20)"
   ]
  },
  {
   "cell_type": "markdown",
   "metadata": {
    "tags": []
   },
   "source": [
    "**Result:**"
   ]
  },
  {
   "cell_type": "code",
   "execution_count": 9,
   "metadata": {},
   "outputs": [
    {
     "data": {
      "text/html": [
       "<div>\n",
       "<style scoped>\n",
       "    .dataframe tbody tr th:only-of-type {\n",
       "        vertical-align: middle;\n",
       "    }\n",
       "\n",
       "    .dataframe tbody tr th {\n",
       "        vertical-align: top;\n",
       "    }\n",
       "\n",
       "    .dataframe thead th {\n",
       "        text-align: right;\n",
       "    }\n",
       "</style>\n",
       "<table border=\"1\" class=\"dataframe\">\n",
       "  <thead>\n",
       "    <tr style=\"text-align: right;\">\n",
       "      <th></th>\n",
       "      <th>a.id</th>\n",
       "      <th>a.betweenness</th>\n",
       "      <th>a.eigenvector</th>\n",
       "      <th>a.closeness</th>\n",
       "    </tr>\n",
       "  </thead>\n",
       "  <tbody>\n",
       "    <tr>\n",
       "      <th>0</th>\n",
       "      <td>15</td>\n",
       "      <td>0.000000</td>\n",
       "      <td>8.660452e-09</td>\n",
       "      <td>0.000000</td>\n",
       "    </tr>\n",
       "    <tr>\n",
       "      <th>1</th>\n",
       "      <td>16</td>\n",
       "      <td>0.000000</td>\n",
       "      <td>8.660452e-09</td>\n",
       "      <td>0.000000</td>\n",
       "    </tr>\n",
       "    <tr>\n",
       "      <th>2</th>\n",
       "      <td>19</td>\n",
       "      <td>0.000000</td>\n",
       "      <td>8.660452e-09</td>\n",
       "      <td>0.000000</td>\n",
       "    </tr>\n",
       "    <tr>\n",
       "      <th>3</th>\n",
       "      <td>21</td>\n",
       "      <td>0.000000</td>\n",
       "      <td>8.660452e-09</td>\n",
       "      <td>0.000000</td>\n",
       "    </tr>\n",
       "    <tr>\n",
       "      <th>4</th>\n",
       "      <td>23</td>\n",
       "      <td>0.000000</td>\n",
       "      <td>8.660452e-09</td>\n",
       "      <td>0.000000</td>\n",
       "    </tr>\n",
       "    <tr>\n",
       "      <th>5</th>\n",
       "      <td>30</td>\n",
       "      <td>1.000000</td>\n",
       "      <td>1.282623e-06</td>\n",
       "      <td>1.000000</td>\n",
       "    </tr>\n",
       "    <tr>\n",
       "      <th>6</th>\n",
       "      <td>31</td>\n",
       "      <td>0.833333</td>\n",
       "      <td>5.744748e-03</td>\n",
       "      <td>0.666667</td>\n",
       "    </tr>\n",
       "    <tr>\n",
       "      <th>7</th>\n",
       "      <td>32</td>\n",
       "      <td>5.083333</td>\n",
       "      <td>5.746022e-03</td>\n",
       "      <td>0.636364</td>\n",
       "    </tr>\n",
       "    <tr>\n",
       "      <th>8</th>\n",
       "      <td>10</td>\n",
       "      <td>0.166667</td>\n",
       "      <td>4.348725e-04</td>\n",
       "      <td>0.600000</td>\n",
       "    </tr>\n",
       "    <tr>\n",
       "      <th>9</th>\n",
       "      <td>14</td>\n",
       "      <td>1.750000</td>\n",
       "      <td>6.593799e-03</td>\n",
       "      <td>1.000000</td>\n",
       "    </tr>\n",
       "    <tr>\n",
       "      <th>10</th>\n",
       "      <td>20</td>\n",
       "      <td>0.583333</td>\n",
       "      <td>2.195913e-05</td>\n",
       "      <td>1.000000</td>\n",
       "    </tr>\n",
       "    <tr>\n",
       "      <th>11</th>\n",
       "      <td>28</td>\n",
       "      <td>0.666667</td>\n",
       "      <td>4.361465e-04</td>\n",
       "      <td>0.714286</td>\n",
       "    </tr>\n",
       "    <tr>\n",
       "      <th>12</th>\n",
       "      <td>11</td>\n",
       "      <td>0.000000</td>\n",
       "      <td>4.327262e-05</td>\n",
       "      <td>1.000000</td>\n",
       "    </tr>\n",
       "    <tr>\n",
       "      <th>13</th>\n",
       "      <td>12</td>\n",
       "      <td>0.000000</td>\n",
       "      <td>6.456418e-07</td>\n",
       "      <td>1.000000</td>\n",
       "    </tr>\n",
       "    <tr>\n",
       "      <th>14</th>\n",
       "      <td>18</td>\n",
       "      <td>0.000000</td>\n",
       "      <td>2.195913e-05</td>\n",
       "      <td>1.000000</td>\n",
       "    </tr>\n",
       "    <tr>\n",
       "      <th>15</th>\n",
       "      <td>1</td>\n",
       "      <td>0.000000</td>\n",
       "      <td>8.660452e-09</td>\n",
       "      <td>0.000000</td>\n",
       "    </tr>\n",
       "    <tr>\n",
       "      <th>16</th>\n",
       "      <td>2</td>\n",
       "      <td>0.500000</td>\n",
       "      <td>6.456418e-07</td>\n",
       "      <td>1.000000</td>\n",
       "    </tr>\n",
       "    <tr>\n",
       "      <th>17</th>\n",
       "      <td>3</td>\n",
       "      <td>8.833333</td>\n",
       "      <td>2.195913e-05</td>\n",
       "      <td>1.000000</td>\n",
       "    </tr>\n",
       "    <tr>\n",
       "      <th>18</th>\n",
       "      <td>5</td>\n",
       "      <td>0.000000</td>\n",
       "      <td>6.456418e-07</td>\n",
       "      <td>1.000000</td>\n",
       "    </tr>\n",
       "    <tr>\n",
       "      <th>19</th>\n",
       "      <td>6</td>\n",
       "      <td>0.500000</td>\n",
       "      <td>6.456418e-07</td>\n",
       "      <td>1.000000</td>\n",
       "    </tr>\n",
       "    <tr>\n",
       "      <th>20</th>\n",
       "      <td>4</td>\n",
       "      <td>2.000000</td>\n",
       "      <td>4.568230e-04</td>\n",
       "      <td>1.000000</td>\n",
       "    </tr>\n",
       "    <tr>\n",
       "      <th>21</th>\n",
       "      <td>7</td>\n",
       "      <td>1.500000</td>\n",
       "      <td>4.327262e-05</td>\n",
       "      <td>1.000000</td>\n",
       "    </tr>\n",
       "    <tr>\n",
       "      <th>22</th>\n",
       "      <td>24</td>\n",
       "      <td>0.000000</td>\n",
       "      <td>8.660452e-09</td>\n",
       "      <td>0.000000</td>\n",
       "    </tr>\n",
       "    <tr>\n",
       "      <th>23</th>\n",
       "      <td>25</td>\n",
       "      <td>0.000000</td>\n",
       "      <td>8.660452e-09</td>\n",
       "      <td>0.000000</td>\n",
       "    </tr>\n",
       "    <tr>\n",
       "      <th>24</th>\n",
       "      <td>27</td>\n",
       "      <td>0.000000</td>\n",
       "      <td>8.660452e-09</td>\n",
       "      <td>0.000000</td>\n",
       "    </tr>\n",
       "    <tr>\n",
       "      <th>25</th>\n",
       "      <td>9</td>\n",
       "      <td>2.250000</td>\n",
       "      <td>4.355095e-04</td>\n",
       "      <td>0.750000</td>\n",
       "    </tr>\n",
       "    <tr>\n",
       "      <th>26</th>\n",
       "      <td>26</td>\n",
       "      <td>1.000000</td>\n",
       "      <td>1.282623e-06</td>\n",
       "      <td>1.000000</td>\n",
       "    </tr>\n",
       "    <tr>\n",
       "      <th>27</th>\n",
       "      <td>29</td>\n",
       "      <td>2.166667</td>\n",
       "      <td>4.348725e-04</td>\n",
       "      <td>0.600000</td>\n",
       "    </tr>\n",
       "    <tr>\n",
       "      <th>28</th>\n",
       "      <td>33</td>\n",
       "      <td>0.166667</td>\n",
       "      <td>1.133783e-01</td>\n",
       "      <td>0.739130</td>\n",
       "    </tr>\n",
       "    <tr>\n",
       "      <th>29</th>\n",
       "      <td>34</td>\n",
       "      <td>0.000000</td>\n",
       "      <td>9.934551e-01</td>\n",
       "      <td>0.793103</td>\n",
       "    </tr>\n",
       "    <tr>\n",
       "      <th>30</th>\n",
       "      <td>8</td>\n",
       "      <td>0.000000</td>\n",
       "      <td>6.593799e-03</td>\n",
       "      <td>1.000000</td>\n",
       "    </tr>\n",
       "    <tr>\n",
       "      <th>31</th>\n",
       "      <td>13</td>\n",
       "      <td>0.000000</td>\n",
       "      <td>6.137621e-03</td>\n",
       "      <td>0.666667</td>\n",
       "    </tr>\n",
       "    <tr>\n",
       "      <th>32</th>\n",
       "      <td>17</td>\n",
       "      <td>0.000000</td>\n",
       "      <td>8.697364e-04</td>\n",
       "      <td>0.666667</td>\n",
       "    </tr>\n",
       "    <tr>\n",
       "      <th>33</th>\n",
       "      <td>22</td>\n",
       "      <td>0.000000</td>\n",
       "      <td>2.195913e-05</td>\n",
       "      <td>1.000000</td>\n",
       "    </tr>\n",
       "  </tbody>\n",
       "</table>\n",
       "</div>"
      ],
      "text/plain": [
       "   a.id  a.betweenness  a.eigenvector  a.closeness\n",
       "0    15       0.000000   8.660452e-09     0.000000\n",
       "1    16       0.000000   8.660452e-09     0.000000\n",
       "2    19       0.000000   8.660452e-09     0.000000\n",
       "3    21       0.000000   8.660452e-09     0.000000\n",
       "4    23       0.000000   8.660452e-09     0.000000\n",
       "5    30       1.000000   1.282623e-06     1.000000\n",
       "6    31       0.833333   5.744748e-03     0.666667\n",
       "7    32       5.083333   5.746022e-03     0.636364\n",
       "8    10       0.166667   4.348725e-04     0.600000\n",
       "9    14       1.750000   6.593799e-03     1.000000\n",
       "10   20       0.583333   2.195913e-05     1.000000\n",
       "11   28       0.666667   4.361465e-04     0.714286\n",
       "12   11       0.000000   4.327262e-05     1.000000\n",
       "13   12       0.000000   6.456418e-07     1.000000\n",
       "14   18       0.000000   2.195913e-05     1.000000\n",
       "15    1       0.000000   8.660452e-09     0.000000\n",
       "16    2       0.500000   6.456418e-07     1.000000\n",
       "17    3       8.833333   2.195913e-05     1.000000\n",
       "18    5       0.000000   6.456418e-07     1.000000\n",
       "19    6       0.500000   6.456418e-07     1.000000\n",
       "20    4       2.000000   4.568230e-04     1.000000\n",
       "21    7       1.500000   4.327262e-05     1.000000\n",
       "22   24       0.000000   8.660452e-09     0.000000\n",
       "23   25       0.000000   8.660452e-09     0.000000\n",
       "24   27       0.000000   8.660452e-09     0.000000\n",
       "25    9       2.250000   4.355095e-04     0.750000\n",
       "26   26       1.000000   1.282623e-06     1.000000\n",
       "27   29       2.166667   4.348725e-04     0.600000\n",
       "28   33       0.166667   1.133783e-01     0.739130\n",
       "29   34       0.000000   9.934551e-01     0.793103\n",
       "30    8       0.000000   6.593799e-03     1.000000\n",
       "31   13       0.000000   6.137621e-03     0.666667\n",
       "32   17       0.000000   8.697364e-04     0.666667\n",
       "33   22       0.000000   2.195913e-05     1.000000"
      ]
     },
     "execution_count": 9,
     "metadata": {},
     "output_type": "execute_result"
    }
   ],
   "source": [
    "query = \"\"\"\n",
    "MATCH (a)\n",
    "RETURN a.id, a.betweenness, a.eigenvector, a.closeness\n",
    "\"\"\"        \n",
    "dtf_data = pd.DataFrame([dict(_) for _ in session.run(query)])\n",
    "dtf_data"
   ]
  },
  {
   "cell_type": "markdown",
   "metadata": {},
   "source": [
    "***"
   ]
  },
  {
   "cell_type": "markdown",
   "metadata": {},
   "source": [
    "Finally, write a Cypher query that removes the node from the graph with\n",
    "the highest centrality only if the graph is weakly connected. The check\n",
    "whether the graph is weakly connected must be done with Cypher as well.\n",
    "Also, write a python function that executes the Cypher query repeatedly\n",
    "until the graph becomes disconnected. Ideally, the python code must\n",
    "execute only a single Cypher query per iteration."
   ]
  },
  {
   "cell_type": "markdown",
   "metadata": {},
   "source": [
    "**Determinig node with highest centrality score:**"
   ]
  },
  {
   "cell_type": "code",
   "execution_count": 10,
   "metadata": {},
   "outputs": [],
   "source": [
    "query = \"\"\"\n",
    "MATCH (n)\n",
    "WITH n as node, n.eigenvector as centrality\n",
    "WITH node, centrality\n",
    "ORDER BY centrality DESC\n",
    "LIMIT 1\n",
    "RETURN *\n",
    "//DETACH DELETE node\n",
    "\"\"\"        \n",
    "#dtf_data = pd.DataFrame([dict(_) for _ in session.run(query)])\n",
    "#dtf_data"
   ]
  },
  {
   "cell_type": "markdown",
   "metadata": {},
   "source": [
    "**Check if graph is weakly connected:**"
   ]
  },
  {
   "cell_type": "code",
   "execution_count": 11,
   "metadata": {},
   "outputs": [],
   "source": [
    "query = \"\"\"\n",
    "CALL gds.wcc.stream('tmpGraph')\n",
    "YIELD nodeId, componentId\n",
    "WITH size(collect(DISTINCT componentId)) as component_count\n",
    "RETURN \n",
    "  CASE component_count\n",
    "  WHEN 1 \n",
    "  THEN true \n",
    "  ELSE false \n",
    "  END AS result\n",
    "  \n",
    "\"\"\"        \n",
    "##dtf_data = pd.DataFrame([dict(_) for _ in session.run(query)])\n",
    "#dtf_data"
   ]
  },
  {
   "cell_type": "markdown",
   "metadata": {},
   "source": [
    "**Combined Soltution:**"
   ]
  },
  {
   "cell_type": "markdown",
   "metadata": {},
   "source": [
    "_Assumption:_ Centrality is supposed to be recalculated during every iteration."
   ]
  },
  {
   "cell_type": "code",
   "execution_count": 12,
   "metadata": {},
   "outputs": [
    {
     "name": "stdout",
     "output_type": "stream",
     "text": [
      "Iteration: 1: Node to remove: 34, weakly conntected: True\n",
      "Iteration: 2: Node to remove: 33, weakly conntected: True\n",
      "Stopped after removing 2 nodes.\n"
     ]
    }
   ],
   "source": [
    "query = \"\"\"\n",
    "\n",
    "// Update graph projection\n",
    "CALL gds.graph.drop('tmpGraph', false) \n",
    "YIELD graphName as graph_dropped\n",
    "CALL gds.graph.project('tmpGraph', 'Node', 'RELATED_TO')\n",
    "YIELD graphName as graph_created\n",
    "\n",
    "// Determine count of weakly connected components\n",
    "CALL gds.wcc.stream('tmpGraph')\n",
    "YIELD nodeId, componentId\n",
    "WITH size(collect(DISTINCT componentId)) as component_count\n",
    "WITH CASE component_count WHEN 1 THEN true ELSE false END AS weakly_connected\n",
    "\n",
    "// (Re-)calculate centrality score\n",
    "CALL gds.eigenvector.stream('tmpGraph')\n",
    "YIELD nodeId, score\n",
    "WITH gds.util.asNode(nodeId).id AS nodeId, score, weakly_connected\n",
    "\n",
    "// Find nodes with highest centrality\n",
    "MATCH (n:Node)\n",
    "WHERE weakly_connected AND n.id = nodeId\n",
    "WITH n as node, score as centrality, weakly_connected\n",
    "WITH node, node.id as nodeId , centrality, weakly_connected\n",
    "ORDER BY centrality DESC\n",
    "LIMIT 1\n",
    "\n",
    "// Delete node\n",
    "DETACH DELETE node\n",
    "RETURN nodeId, weakly_connected\n",
    "\n",
    "\"\"\"\n",
    "\n",
    "weakly_connected = True\n",
    "iter = 0\n",
    "\n",
    "while weakly_connected:\n",
    "    iter = iter + 1\n",
    "    with driver.session() as session:\n",
    "        result = session.run(query)\n",
    "        \n",
    "        i = 0\n",
    "        for record in result:\n",
    "            print(f\"Iteration: {iter}: Node to remove: {record['nodeId']}, weakly conntected: {record['weakly_connected']}\")\n",
    "            i = i + 1\n",
    "         \n",
    "    if i == 0: weakly_connected = False\n",
    "    \n",
    "    \n",
    "print(f\"Stopped after removing {iter - 1} nodes.\")"
   ]
  },
  {
   "cell_type": "markdown",
   "metadata": {},
   "source": [
    "**Original Graph:**"
   ]
  },
  {
   "cell_type": "markdown",
   "metadata": {},
   "source": [
    "![svg image](data:image/svg+xml;base64,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)"
   ]
  },
  {
   "cell_type": "markdown",
   "metadata": {},
   "source": [
    "\n",
    "\n",
    "\n",
    "\n"
   ]
  },
  {
   "cell_type": "markdown",
   "metadata": {},
   "source": [
    "**After removing node 34 in iteration 1:**"
   ]
  },
  {
   "cell_type": "markdown",
   "metadata": {},
   "source": [
    "![svg image](data:image/svg+xml;base64,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)"
   ]
  },
  {
   "cell_type": "markdown",
   "metadata": {},
   "source": [
    "**After removing node 33 in iteration 2:**"
   ]
  },
  {
   "cell_type": "markdown",
   "metadata": {},
   "source": [
    "![svg image](data:image/svg+xml;base64,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)"
   ]
  },
  {
   "cell_type": "markdown",
   "metadata": {
    "tags": []
   },
   "source": [
    "### Question 2\n",
    "\n",
    "The two files 0.edges and 348.edges represent two different graphs G1\n",
    "and G2. Load both graphs into a single database. The result should\n",
    "be a large disconnected graph. Then compute the betweenness centrality\n",
    "distributions for both G1 and G2 (basically you need store the betweenness\n",
    "centralities in two separate lists). Finally, compute the similarity of the\n",
    "two distributions using any applicable similarity provided by GDS. You\n",
    "can find the descriptions of the functions at:\n",
    "\n",
    "https://neo4j.com/docs/graph-data-science/current/algorithms/similarity-functions/"
   ]
  },
  {
   "cell_type": "markdown",
   "metadata": {},
   "source": [
    "**Import Data:**"
   ]
  },
  {
   "cell_type": "code",
   "execution_count": 13,
   "metadata": {},
   "outputs": [],
   "source": [
    "query = \"\"\"\n",
    "DROP DATABASE sec IF EXISTS\n",
    "\"\"\"\n",
    "\n",
    "with driver.session() as session:\n",
    "    result = session.run(query)\n",
    "    \n",
    "query = \"\"\"\n",
    "CREATE DATABASE sec IF NOT EXISTS\n",
    "\"\"\"\n",
    "\n",
    "with driver.session() as session:\n",
    "    result = session.run(query)"
   ]
  },
  {
   "cell_type": "code",
   "execution_count": 14,
   "metadata": {},
   "outputs": [],
   "source": [
    "query = \"\"\"\n",
    "LOAD CSV FROM 'file:///0edges.sec' AS row FIELDTERMINATOR ' '\n",
    "WITH row[0] as sourceId, row[1] as targetId\n",
    "MERGE (s:NodeG1 {id: sourceId, graph: 1})\n",
    "MERGE (t:NodeG1 {id: targetId, graph: 1})\n",
    "MERGE (s)-[:RELATED_TO]->(t)   \n",
    "RETURN s, t\n",
    "\"\"\"\n",
    "\n",
    "with driver.session(database = \"sec\") as session:\n",
    "    result = session.run(query)"
   ]
  },
  {
   "cell_type": "code",
   "execution_count": 15,
   "metadata": {},
   "outputs": [],
   "source": [
    "query = \"\"\"\n",
    "LOAD CSV FROM 'file:///348edges.sec' AS row FIELDTERMINATOR ' '\n",
    "WITH row[0] as sourceId, row[1] as targetId\n",
    "MERGE (s:NodeG2 {id: sourceId, graph: 2})\n",
    "MERGE (t:NodeG2 {id: targetId, graph: 2})\n",
    "MERGE (s)-[:RELATED_TO]->(t)   \n",
    "RETURN s, t\n",
    "\"\"\"\n",
    "\n",
    "with driver.session(database = \"sec\") as session:\n",
    "    result = session.run(query)"
   ]
  },
  {
   "cell_type": "markdown",
   "metadata": {},
   "source": [
    "**Create In-Memory Graph Projection:**"
   ]
  },
  {
   "cell_type": "code",
   "execution_count": 16,
   "metadata": {},
   "outputs": [],
   "source": [
    "query = \"\"\"\n",
    "CALL gds.graph.drop('secGraph', false) \n",
    "\"\"\"\n",
    "\n",
    "with driver.session(database = \"sec\") as session:\n",
    "    result = session.run(query)\n",
    "    \n",
    "query = \"\"\"\n",
    "CALL gds.graph.project('secGraph',  ['NodeG1', 'NodeG2'], 'RELATED_TO')\n",
    "\"\"\"\n",
    "\n",
    "with driver.session(database = \"sec\") as session:\n",
    "    result = session.run(query)"
   ]
  },
  {
   "cell_type": "markdown",
   "metadata": {},
   "source": [
    "**Compare Centrality Distributions:**"
   ]
  },
  {
   "cell_type": "code",
   "execution_count": 17,
   "metadata": {},
   "outputs": [
    {
     "data": {
      "text/html": [
       "<div>\n",
       "<style scoped>\n",
       "    .dataframe tbody tr th:only-of-type {\n",
       "        vertical-align: middle;\n",
       "    }\n",
       "\n",
       "    .dataframe tbody tr th {\n",
       "        vertical-align: top;\n",
       "    }\n",
       "\n",
       "    .dataframe thead th {\n",
       "        text-align: right;\n",
       "    }\n",
       "</style>\n",
       "<table border=\"1\" class=\"dataframe\">\n",
       "  <thead>\n",
       "    <tr style=\"text-align: right;\">\n",
       "      <th></th>\n",
       "      <th>pearsonSimilarity</th>\n",
       "      <th>overlapSimilarity</th>\n",
       "      <th>jaccardSimilarity</th>\n",
       "      <th>cosineSimilarity</th>\n",
       "      <th>euclideanSimilarity</th>\n",
       "      <th>euclideanDistance</th>\n",
       "    </tr>\n",
       "  </thead>\n",
       "  <tbody>\n",
       "    <tr>\n",
       "      <th>0</th>\n",
       "      <td>0.396912</td>\n",
       "      <td>0.0</td>\n",
       "      <td>0.0</td>\n",
       "      <td>0.590634</td>\n",
       "      <td>0.524979</td>\n",
       "      <td>0.904838</td>\n",
       "    </tr>\n",
       "  </tbody>\n",
       "</table>\n",
       "</div>"
      ],
      "text/plain": [
       "   pearsonSimilarity  overlapSimilarity  jaccardSimilarity  cosineSimilarity  \\\n",
       "0           0.396912                0.0                0.0          0.590634   \n",
       "\n",
       "   euclideanSimilarity  euclideanDistance  \n",
       "0             0.524979           0.904838  "
      ]
     },
     "execution_count": 17,
     "metadata": {},
     "output_type": "execute_result"
    }
   ],
   "source": [
    "query = \"\"\"\n",
    "// Centrality Graph 1\n",
    "CALL gds.eigenvector.stream('secGraph', {nodeLabels: ['NodeG1']})\n",
    "YIELD nodeId as nodeId_G1, score as scores_G1\n",
    "WITH collect(scores_G1) as scores_G1\n",
    "\n",
    "// Centrality Graph 2\n",
    "CALL gds.eigenvector.stream('secGraph', {nodeLabels: ['NodeG2']})\n",
    "YIELD nodeId as nodeId_G2, score as scores_G2\n",
    "WITH collect(scores_G2) as scores_G2, scores_G1\n",
    "\n",
    "//Padding smaller Distribution\n",
    "WITH \n",
    "scores_G1 + [x IN range(1,size(scores_G2) - size(scores_G1))| 0] AS scores_G1,\n",
    "scores_G2 + [x IN range(1,size(scores_G1) - size(scores_G2))| 0] AS scores_G2\n",
    "\n",
    "//Calculate Distance\n",
    "RETURN \n",
    "//size(scores_G1) as len_G1,\n",
    "//size(scores_G2) as len_G2,\n",
    "gds.similarity.pearson(scores_G1, scores_G2) as pearsonSimilarity,\n",
    "gds.similarity.overlap(scores_G1, scores_G2) as overlapSimilarity,\n",
    "gds.similarity.jaccard(scores_G1, scores_G2) as jaccardSimilarity,\n",
    "gds.similarity.cosine(scores_G1, scores_G2) AS cosineSimilarity,\n",
    "gds.similarity.euclidean(scores_G1,scores_G2) AS euclideanSimilarity,\n",
    "gds.similarity.euclideanDistance(scores_G1,scores_G2) AS euclideanDistance\n",
    "\"\"\"\n",
    "\n",
    "dtf_data = pd.DataFrame([dict(_) for _ in session.run(query)])\n",
    "dtf_data\n"
   ]
  },
  {
   "cell_type": "code",
   "execution_count": null,
   "metadata": {},
   "outputs": [],
   "source": []
  }
 ],
 "metadata": {
  "kernelspec": {
   "display_name": "Python 3 (ipykernel)",
   "language": "python",
   "name": "python3"
  },
  "language_info": {
   "codemirror_mode": {
    "name": "ipython",
    "version": 3
   },
   "file_extension": ".py",
   "mimetype": "text/x-python",
   "name": "python",
   "nbconvert_exporter": "python",
   "pygments_lexer": "ipython3",
   "version": "3.9.7"
  }
 },
 "nbformat": 4,
 "nbformat_minor": 4
}
