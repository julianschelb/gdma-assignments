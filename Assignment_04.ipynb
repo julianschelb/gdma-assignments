{
 "cells": [
  {
   "cell_type": "markdown",
   "metadata": {},
   "source": [
    "# GDMA - Assignment 4"
   ]
  },
  {
   "cell_type": "markdown",
   "metadata": {
    "tags": []
   },
   "source": [
    "Author: Julian Schelb (1069967)"
   ]
  },
  {
   "cell_type": "code",
   "execution_count": 1,
   "metadata": {},
   "outputs": [],
   "source": [
    "from neo4j import GraphDatabase\n",
    "import matplotlib.pyplot as plt\n",
    "import pandas as pd"
   ]
  },
  {
   "cell_type": "markdown",
   "metadata": {},
   "source": [
    "### Connection to the database instance"
   ]
  },
  {
   "cell_type": "code",
   "execution_count": 2,
   "metadata": {},
   "outputs": [],
   "source": [
    "driver = GraphDatabase.driver(\"bolt://localhost:7687\", auth=(\"neo4j\", \"subatomic-shrank-Respond\"))\n",
    "session = driver.session()"
   ]
  },
  {
   "cell_type": "markdown",
   "metadata": {},
   "source": [
    "\n"
   ]
  },
  {
   "cell_type": "markdown",
   "metadata": {
    "tags": []
   },
   "source": [
    "### Question 1\n",
    "\n",
    "Import the graph from the attached email-Eu-core.txt file. The file\n",
    "represents a directed graph. \n",
    "\n",
    "Write the necessary Cypher and Python code to compute the significance\n",
    "of each pattern. Use the configuration model and generate 5 random\n",
    "networks. All subgraph matching queries must be executed in Neo4j. For\n",
    "patterns (a) and (b) consider all matches (non-induced sugraphs) while\n",
    "for pattern (c) consider induced subgraphs."
   ]
  },
  {
   "cell_type": "markdown",
   "metadata": {},
   "source": [
    "**Import Data:**"
   ]
  },
  {
   "cell_type": "code",
   "execution_count": 21,
   "metadata": {},
   "outputs": [],
   "source": [
    "query = \"\"\"\n",
    "LOAD CSV FROM 'file:///email-Eu-core.txt' AS row FIELDTERMINATOR ' '\n",
    "WITH row[0] as sourceId, row[1] as targetId\n",
    "MERGE (s:Node {id: sourceId})\n",
    "MERGE (t:Node {id: targetId})\n",
    "MERGE (s)-[:RELATED_TO]->(t)   \n",
    "RETURN s, t\n",
    "\"\"\"\n",
    "\n",
    "with driver.session() as session:\n",
    "    result = session.run(query)"
   ]
  },
  {
   "cell_type": "markdown",
   "metadata": {},
   "source": [
    "**Pattern a:**"
   ]
  },
  {
   "cell_type": "code",
   "execution_count": 5,
   "metadata": {},
   "outputs": [
    {
     "data": {
      "text/html": [
       "<div>\n",
       "<style scoped>\n",
       "    .dataframe tbody tr th:only-of-type {\n",
       "        vertical-align: middle;\n",
       "    }\n",
       "\n",
       "    .dataframe tbody tr th {\n",
       "        vertical-align: top;\n",
       "    }\n",
       "\n",
       "    .dataframe thead th {\n",
       "        text-align: right;\n",
       "    }\n",
       "</style>\n",
       "<table border=\"1\" class=\"dataframe\">\n",
       "  <thead>\n",
       "    <tr style=\"text-align: right;\">\n",
       "      <th></th>\n",
       "      <th>count(*)</th>\n",
       "    </tr>\n",
       "  </thead>\n",
       "  <tbody>\n",
       "    <tr>\n",
       "      <th>0</th>\n",
       "      <td>432159</td>\n",
       "    </tr>\n",
       "  </tbody>\n",
       "</table>\n",
       "</div>"
      ],
      "text/plain": [
       "   count(*)\n",
       "0    432159"
      ]
     },
     "execution_count": 5,
     "metadata": {},
     "output_type": "execute_result"
    }
   ],
   "source": [
    "query = \"\"\"\n",
    "MATCH (a:Node)-[r]->(b:Node)-[r2]->(c:Node)\n",
    "MATCH (a)-[r3]->(c) \n",
    "RETURN count(*)\n",
    "\"\"\"\n",
    "\n",
    "dtf_data = pd.DataFrame([dict(_) for _ in session.run(query)])\n",
    "dtf_data"
   ]
  },
  {
   "cell_type": "markdown",
   "metadata": {},
   "source": [
    "**Pattern b:**"
   ]
  },
  {
   "cell_type": "code",
   "execution_count": 6,
   "metadata": {},
   "outputs": [
    {
     "data": {
      "text/html": [
       "<div>\n",
       "<style scoped>\n",
       "    .dataframe tbody tr th:only-of-type {\n",
       "        vertical-align: middle;\n",
       "    }\n",
       "\n",
       "    .dataframe tbody tr th {\n",
       "        vertical-align: top;\n",
       "    }\n",
       "\n",
       "    .dataframe thead th {\n",
       "        text-align: right;\n",
       "    }\n",
       "</style>\n",
       "<table border=\"1\" class=\"dataframe\">\n",
       "  <thead>\n",
       "    <tr style=\"text-align: right;\">\n",
       "      <th></th>\n",
       "      <th>count(*)</th>\n",
       "    </tr>\n",
       "  </thead>\n",
       "  <tbody>\n",
       "    <tr>\n",
       "      <th>0</th>\n",
       "      <td>21106565</td>\n",
       "    </tr>\n",
       "  </tbody>\n",
       "</table>\n",
       "</div>"
      ],
      "text/plain": [
       "   count(*)\n",
       "0  21106565"
      ]
     },
     "execution_count": 6,
     "metadata": {},
     "output_type": "execute_result"
    }
   ],
   "source": [
    "query = \"\"\"\n",
    "MATCH (a:Node)-[r]->(b:Node)-[r2]->(d:Node)\n",
    "MATCH (a)-[r3]->(c:Node)-[r4]->(d)\n",
    "RETURN count(*)\n",
    "\"\"\"\n",
    "\n",
    "dtf_data = pd.DataFrame([dict(_) for _ in session.run(query)])\n",
    "dtf_data"
   ]
  },
  {
   "cell_type": "code",
   "execution_count": 7,
   "metadata": {},
   "outputs": [
    {
     "data": {
      "text/html": [
       "<div>\n",
       "<style scoped>\n",
       "    .dataframe tbody tr th:only-of-type {\n",
       "        vertical-align: middle;\n",
       "    }\n",
       "\n",
       "    .dataframe tbody tr th {\n",
       "        vertical-align: top;\n",
       "    }\n",
       "\n",
       "    .dataframe thead th {\n",
       "        text-align: right;\n",
       "    }\n",
       "</style>\n",
       "<table border=\"1\" class=\"dataframe\">\n",
       "  <thead>\n",
       "    <tr style=\"text-align: right;\">\n",
       "      <th></th>\n",
       "      <th>count(*)</th>\n",
       "    </tr>\n",
       "  </thead>\n",
       "  <tbody>\n",
       "    <tr>\n",
       "      <th>0</th>\n",
       "      <td>206182145</td>\n",
       "    </tr>\n",
       "  </tbody>\n",
       "</table>\n",
       "</div>"
      ],
      "text/plain": [
       "    count(*)\n",
       "0  206182145"
      ]
     },
     "execution_count": 7,
     "metadata": {},
     "output_type": "execute_result"
    }
   ],
   "source": [
    "query = \"\"\"\n",
    "MATCH (a)\n",
    "MATCH (a)-[r1]->(b:Node)\n",
    "MATCH (a)-[r2]->(c:Node)\n",
    "MATCH (a)-[r3]->(d:Node)\n",
    "RETURN count(*)\n",
    "\"\"\"\n",
    "\n",
    "dtf_data = pd.DataFrame([dict(_) for _ in session.run(query)])\n",
    "dtf_data"
   ]
  },
  {
   "cell_type": "markdown",
   "metadata": {},
   "source": [
    "**Create Random Graphs:**"
   ]
  },
  {
   "cell_type": "markdown",
   "metadata": {},
   "source": [
    "* https://neo4j.com/labs/apoc/4.1/overview/apoc.node/apoc.node.degree/\n",
    "* https://neo4j.com/labs/apoc/4.2/overview/apoc.generate/apoc.generate.simple/"
   ]
  },
  {
   "cell_type": "markdown",
   "metadata": {},
   "source": [
    "Determining degree distribution of original graph:"
   ]
  },
  {
   "cell_type": "code",
   "execution_count": 29,
   "metadata": {},
   "outputs": [
    {
     "name": "stdout",
     "output_type": "stream",
     "text": [
      "[72, 160, 279, 61, 75]\n"
     ]
    }
   ],
   "source": [
    "query = \"\"\"\n",
    "MATCH (n:Node)\n",
    "RETURN collect(apoc.node.degree(n)) AS degree_dist\n",
    "\"\"\"\n",
    "\n",
    "degree_dist = []\n",
    "with driver.session(database = \"neo4j\") as session:\n",
    "    result = session.run(query)\n",
    "    for record in result:\n",
    "        degree_dist = record[\"degree_dist\"]\n",
    "\n",
    "print(degree_dist[:5])"
   ]
  },
  {
   "cell_type": "markdown",
   "metadata": {},
   "source": [
    "Generate Random Graph 1:"
   ]
  },
  {
   "cell_type": "code",
   "execution_count": 33,
   "metadata": {},
   "outputs": [],
   "source": [
    "database_name = \"randomone\"\n",
    "\n",
    "#### Drop existing database if exists\n",
    "query = \"DROP DATABASE $database_name IF EXISTS\"\n",
    "with driver.session() as session:\n",
    "    result = session.run(query, database_name = database_name)\n",
    "\n",
    "#### Create new database\n",
    "query = \"CREATE DATABASE $database_name IF NOT EXISTS\"\n",
    "with driver.session() as session:\n",
    "    result = session.run(query, database_name = database_name)\n",
    "    \n",
    "#### Generate random graph    \n",
    "query = \"CALL apoc.generate.simple($degree_dist, \\\"Node\\\", \\\"RELATED_TO\\\")\"\n",
    "with driver.session(database = database_name) as session:\n",
    "    result = session.run(query, degree_dist = degree_dist)"
   ]
  },
  {
   "cell_type": "markdown",
   "metadata": {},
   "source": [
    "Generate Random Graph 2:"
   ]
  },
  {
   "cell_type": "code",
   "execution_count": 34,
   "metadata": {},
   "outputs": [],
   "source": [
    "database_name = \"randomtwo\"\n",
    "\n",
    "#### Drop existing database if exists\n",
    "query = \"DROP DATABASE $database_name IF EXISTS\"\n",
    "with driver.session() as session:\n",
    "    result = session.run(query, database_name = database_name)\n",
    "\n",
    "#### Create new database\n",
    "query = \"CREATE DATABASE $database_name IF NOT EXISTS\"\n",
    "with driver.session() as session:\n",
    "    result = session.run(query, database_name = database_name)\n",
    "    \n",
    "#### Generate random graph    \n",
    "query = \"CALL apoc.generate.simple($degree_dist, \\\"Node\\\", \\\"RELATED_TO\\\")\"\n",
    "with driver.session(database = database_name) as session:\n",
    "    result = session.run(query, degree_dist = degree_dist)"
   ]
  },
  {
   "cell_type": "markdown",
   "metadata": {},
   "source": [
    "Generate Random Graph 3:"
   ]
  },
  {
   "cell_type": "code",
   "execution_count": 35,
   "metadata": {},
   "outputs": [],
   "source": [
    "database_name = \"randomthree\"\n",
    "\n",
    "#### Drop existing database if exists\n",
    "query = \"DROP DATABASE $database_name IF EXISTS\"\n",
    "with driver.session() as session:\n",
    "    result = session.run(query, database_name = database_name)\n",
    "\n",
    "#### Create new database\n",
    "query = \"CREATE DATABASE $database_name IF NOT EXISTS\"\n",
    "with driver.session() as session:\n",
    "    result = session.run(query, database_name = database_name)\n",
    "    \n",
    "#### Generate random graph    \n",
    "query = \"CALL apoc.generate.simple($degree_dist, \\\"Node\\\", \\\"RELATED_TO\\\")\"\n",
    "with driver.session(database = database_name) as session:\n",
    "    result = session.run(query, degree_dist = degree_dist)"
   ]
  },
  {
   "cell_type": "markdown",
   "metadata": {},
   "source": [
    "Generate Random Graph 4:"
   ]
  },
  {
   "cell_type": "code",
   "execution_count": 36,
   "metadata": {},
   "outputs": [],
   "source": [
    "database_name = \"randomfour\"\n",
    "\n",
    "#### Drop existing database if exists\n",
    "query = \"DROP DATABASE $database_name IF EXISTS\"\n",
    "with driver.session() as session:\n",
    "    result = session.run(query, database_name = database_name)\n",
    "\n",
    "#### Create new database\n",
    "query = \"CREATE DATABASE $database_name IF NOT EXISTS\"\n",
    "with driver.session() as session:\n",
    "    result = session.run(query, database_name = database_name)\n",
    "    \n",
    "#### Generate random graph    \n",
    "query = \"CALL apoc.generate.simple($degree_dist, \\\"Node\\\", \\\"RELATED_TO\\\")\"\n",
    "with driver.session(database = database_name) as session:\n",
    "    result = session.run(query, degree_dist = degree_dist)"
   ]
  },
  {
   "cell_type": "markdown",
   "metadata": {},
   "source": [
    "Generate Random Graph 5:"
   ]
  },
  {
   "cell_type": "code",
   "execution_count": 37,
   "metadata": {},
   "outputs": [],
   "source": [
    "database_name = \"randomfive\"\n",
    "\n",
    "#### Drop existing database if exists\n",
    "query = \"DROP DATABASE $database_name IF EXISTS\"\n",
    "with driver.session() as session:\n",
    "    result = session.run(query, database_name = database_name)\n",
    "\n",
    "#### Create new database\n",
    "query = \"CREATE DATABASE $database_name IF NOT EXISTS\"\n",
    "with driver.session() as session:\n",
    "    result = session.run(query, database_name = database_name)\n",
    "    \n",
    "#### Generate random graph    \n",
    "query = \"CALL apoc.generate.simple($degree_dist, \\\"Node\\\", \\\"RELATED_TO\\\")\"\n",
    "with driver.session(database = database_name) as session:\n",
    "    result = session.run(query, degree_dist = degree_dist)"
   ]
  },
  {
   "cell_type": "markdown",
   "metadata": {},
   "source": [
    "***"
   ]
  },
  {
   "cell_type": "code",
   "execution_count": 48,
   "metadata": {},
   "outputs": [],
   "source": [
    "from statistics import mean, pstdev"
   ]
  },
  {
   "cell_type": "markdown",
   "metadata": {},
   "source": [
    "**Significance Pattern a:**"
   ]
  },
  {
   "cell_type": "code",
   "execution_count": 60,
   "metadata": {},
   "outputs": [
    {
     "name": "stdout",
     "output_type": "stream",
     "text": [
      "Count in real Graph: 432159\n",
      "Counts in random Graph: [272348, 270810, 274345, 272582, 269799]\n",
      "Mean: 271976.8\n",
      "Stdev: 1563.12\n",
      "Signficance 102.48\n"
     ]
    }
   ],
   "source": [
    "query = \"\"\"\n",
    "MATCH (a:Node)-[r]->(b:Node)-[r2]->(c:Node)\n",
    "MATCH (a)-[r3]->(c) \n",
    "RETURN count(*) as count\n",
    "\"\"\"\n",
    "\n",
    "#################### Real Graph ####################\n",
    "\n",
    "N_real = None\n",
    "with driver.session() as session:\n",
    "    result = session.run(query)\n",
    "    for record in result:\n",
    "        N_real = record[\"count\"]\n",
    "        \n",
    "print(\"Count in real Graph:\", N_real)\n",
    "\n",
    "#################### Random Graph ####################\n",
    "\n",
    "graphs = [\"randomone\", \"randomtwo\",  \"randomthree\",  \"randomfour\",  \"randomfive\"]\n",
    "N_rand = []\n",
    "\n",
    "for graph in graphs:\n",
    "\n",
    "    count = None\n",
    "    with driver.session(database = graph) as session:\n",
    "        result = session.run(query)\n",
    "        for record in result:\n",
    "            count = record[\"count\"]\n",
    "\n",
    "    N_rand.append(count)\n",
    "\n",
    "#################### Significance ####################\n",
    "    \n",
    "N_rand_mean = mean(N_rand)\n",
    "N_rand_stdev = pstdev(N_rand)\n",
    "\n",
    "print(\"Counts in random Graph:\", N_rand)\n",
    "print(\"Mean:\", round(N_rand_mean, 2))\n",
    "print(\"Stdev:\", round(N_rand_stdev, 2))\n",
    "\n",
    "Z = (N_real - N_rand_mean) / N_rand_stdev\n",
    "\n",
    "print(\"Signficance\", round(Z, 2))"
   ]
  },
  {
   "cell_type": "markdown",
   "metadata": {},
   "source": [
    "***"
   ]
  },
  {
   "cell_type": "markdown",
   "metadata": {},
   "source": [
    "**Significance Pattern b:**"
   ]
  },
  {
   "cell_type": "code",
   "execution_count": 61,
   "metadata": {},
   "outputs": [
    {
     "name": "stdout",
     "output_type": "stream",
     "text": [
      "Count in real Graph: 21106592\n",
      "Counts in random Graph: [16095615, 15967752, 16310247, 16073420, 15751269]\n",
      "Mean: 16039660.6\n",
      "Stdev: 182114.33\n",
      "Signficance 27.82\n"
     ]
    }
   ],
   "source": [
    "query = \"\"\"\n",
    "MATCH (a:Node)-[r]->(b:Node)-[r2]->(d:Node)\n",
    "MATCH (a)-[r3]->(c:Node)-[r4]->(d)\n",
    "RETURN count(*) as count\n",
    "\"\"\"\n",
    "\n",
    "#################### Real Graph ####################\n",
    "\n",
    "N_real = None\n",
    "with driver.session() as session:\n",
    "    result = session.run(query)\n",
    "    for record in result:\n",
    "        N_real = record[\"count\"]\n",
    "        \n",
    "print(\"Count in real Graph:\", N_real)\n",
    "\n",
    "#################### Random Graph ####################\n",
    "\n",
    "graphs = [\"randomone\", \"randomtwo\",  \"randomthree\",  \"randomfour\",  \"randomfive\"]\n",
    "N_rand = []\n",
    "\n",
    "for graph in graphs:\n",
    "\n",
    "    count = None\n",
    "    with driver.session(database = graph) as session:\n",
    "        result = session.run(query)\n",
    "        for record in result:\n",
    "            count = record[\"count\"]\n",
    "\n",
    "    N_rand.append(count)\n",
    "\n",
    "#################### Significance ####################\n",
    "    \n",
    "N_rand_mean = mean(N_rand)\n",
    "N_rand_stdev = pstdev(N_rand)\n",
    "\n",
    "print(\"Counts in random Graph:\", N_rand)\n",
    "print(\"Mean:\", round(N_rand_mean, 2))\n",
    "print(\"Stdev:\", round(N_rand_stdev, 2))\n",
    "\n",
    "Z = (N_real - N_rand_mean) / N_rand_stdev\n",
    "\n",
    "print(\"Signficance\", round(Z, 2))"
   ]
  },
  {
   "cell_type": "markdown",
   "metadata": {},
   "source": [
    "***"
   ]
  },
  {
   "cell_type": "markdown",
   "metadata": {},
   "source": [
    "**Significance Pattern c:**"
   ]
  },
  {
   "cell_type": "code",
   "execution_count": 62,
   "metadata": {},
   "outputs": [
    {
     "name": "stdout",
     "output_type": "stream",
     "text": [
      "Count in real Graph: 206182244\n",
      "Counts in random Graph: [736846445, 741154895, 734797151, 741974711, 746228033]\n",
      "Mean: 740200247\n",
      "Stdev: 4020838.56\n",
      "Signficance -132.81\n"
     ]
    }
   ],
   "source": [
    "query = \"\"\"\n",
    "MATCH (a)\n",
    "MATCH (a)-[r1]->(b:Node)\n",
    "MATCH (a)-[r2]->(c:Node)\n",
    "MATCH (a)-[r3]->(d:Node)\n",
    "RETURN count(*) as count\n",
    "\"\"\"\n",
    "\n",
    "#################### Real Graph ####################\n",
    "\n",
    "N_real = None\n",
    "with driver.session() as session:\n",
    "    result = session.run(query)\n",
    "    for record in result:\n",
    "        N_real = record[\"count\"]\n",
    "        \n",
    "print(\"Count in real Graph:\", N_real)\n",
    "\n",
    "#################### Random Graph ####################\n",
    "\n",
    "graphs = [\"randomone\", \"randomtwo\",  \"randomthree\",  \"randomfour\",  \"randomfive\"]\n",
    "N_rand = []\n",
    "\n",
    "for graph in graphs:\n",
    "\n",
    "    count = None\n",
    "    with driver.session(database = graph) as session:\n",
    "        result = session.run(query)\n",
    "        for record in result:\n",
    "            count = record[\"count\"]\n",
    "\n",
    "    N_rand.append(count)\n",
    "\n",
    "#################### Significance ####################\n",
    "    \n",
    "N_rand_mean = mean(N_rand)\n",
    "N_rand_stdev = pstdev(N_rand)\n",
    "\n",
    "print(\"Counts in random Graph:\", N_rand)\n",
    "print(\"Mean:\", round(N_rand_mean, 2))\n",
    "print(\"Stdev:\", round(N_rand_stdev, 2))\n",
    "\n",
    "Z = (N_real - N_rand_mean) / N_rand_stdev\n",
    "\n",
    "print(\"Signficance\", round(Z, 2))"
   ]
  },
  {
   "cell_type": "markdown",
   "metadata": {},
   "source": [
    "***"
   ]
  },
  {
   "cell_type": "markdown",
   "metadata": {},
   "source": [
    "### Question 2\n",
    "\n",
    "Import the graph from the file karate.csv. Use the Louvain algorithm\n",
    "to split the input graph into communities. You can find the description of\n",
    "the user-defined procedure for the Louvain algorithm and other community\n",
    "detection algorithms in the following link:\n",
    "\n",
    "https://neo4j.com/docs/graph-data-science/current/algorithms/community/\n",
    "\n",
    "Consider only the final community structure (disregard any intermediate communities). Then, print for each community (identified by the\n",
    "communityId yielded by the user-defined procedure) the list of its border\n",
    "nodes (identified by their nid given in the input file)."
   ]
  },
  {
   "cell_type": "code",
   "execution_count": 4,
   "metadata": {},
   "outputs": [],
   "source": [
    "database_name = \"karate\""
   ]
  },
  {
   "cell_type": "markdown",
   "metadata": {},
   "source": [
    "**Import Data:**"
   ]
  },
  {
   "cell_type": "code",
   "execution_count": 64,
   "metadata": {},
   "outputs": [],
   "source": [
    "#### Drop existing database if exists\n",
    "query = \"DROP DATABASE $database_name IF EXISTS\"\n",
    "with driver.session() as session:\n",
    "    result = session.run(query, database_name = database_name)\n",
    "\n",
    "#### Create new database\n",
    "query = \"CREATE DATABASE $database_name IF NOT EXISTS\"\n",
    "with driver.session() as session:\n",
    "    result = session.run(query, database_name = database_name)\n",
    "    \n",
    "#### Import data\n",
    "\n",
    "query = \"\"\"\n",
    "LOAD CSV FROM 'file:///karate.csv' AS row FIELDTERMINATOR ';'\n",
    "WITH row[0] as sourceId, row[1] as targetId\n",
    "MERGE (s:Node {id: sourceId})\n",
    "MERGE (t:Node {id: targetId})\n",
    "MERGE (s)-[:RELATED_TO]->(t)   \n",
    "RETURN s, t\n",
    "\"\"\"\n",
    "\n",
    "with driver.session(database = database_name) as session:\n",
    "    result = session.run(query)"
   ]
  },
  {
   "cell_type": "markdown",
   "metadata": {},
   "source": [
    "**Determine Communities:**"
   ]
  },
  {
   "cell_type": "code",
   "execution_count": 8,
   "metadata": {},
   "outputs": [],
   "source": [
    "#### Drop existing graph projection if exists\n",
    "query = \"\"\"\n",
    "CALL gds.graph.drop('karateCommunity', false) \n",
    "\"\"\"\n",
    "\n",
    "with driver.session(database = database_name) as session:\n",
    "    result = session.run(query)\n",
    "\n",
    "#### Create new graph projection\n",
    "query = \"\"\"\n",
    "CALL gds.graph.project('karateCommunity', 'Node', {RELATED_TO: { orientation: 'UNDIRECTED'}})\n",
    "\"\"\"\n",
    "\n",
    "with driver.session(database = database_name) as session:\n",
    "    result = session.run(query)\n",
    "\n",
    "#### Determine communities\n",
    "query = \"\"\"\n",
    "CALL gds.louvain.write('karateCommunity', { writeProperty: 'community' })\n",
    "YIELD communityCount, modularity, modularities\n",
    "\"\"\"\n",
    "\n",
    "with driver.session(database = database_name) as session:\n",
    "    result = session.run(query)"
   ]
  },
  {
   "cell_type": "markdown",
   "metadata": {},
   "source": [
    "**Print Border Nodes:**"
   ]
  },
  {
   "cell_type": "code",
   "execution_count": 12,
   "metadata": {},
   "outputs": [
    {
     "data": {
      "text/html": [
       "<div>\n",
       "<style scoped>\n",
       "    .dataframe tbody tr th:only-of-type {\n",
       "        vertical-align: middle;\n",
       "    }\n",
       "\n",
       "    .dataframe tbody tr th {\n",
       "        vertical-align: top;\n",
       "    }\n",
       "\n",
       "    .dataframe thead th {\n",
       "        text-align: right;\n",
       "    }\n",
       "</style>\n",
       "<table border=\"1\" class=\"dataframe\">\n",
       "  <thead>\n",
       "    <tr style=\"text-align: right;\">\n",
       "      <th></th>\n",
       "      <th>community</th>\n",
       "      <th>border_nodes</th>\n",
       "    </tr>\n",
       "  </thead>\n",
       "  <tbody>\n",
       "    <tr>\n",
       "      <th>0</th>\n",
       "      <td>5</td>\n",
       "      <td>[1, 2, 3, 10, 14, 20]</td>\n",
       "    </tr>\n",
       "    <tr>\n",
       "      <th>1</th>\n",
       "      <td>4</td>\n",
       "      <td>[5, 6, 7, 11]</td>\n",
       "    </tr>\n",
       "    <tr>\n",
       "      <th>2</th>\n",
       "      <td>11</td>\n",
       "      <td>[24, 29, 32, 28]</td>\n",
       "    </tr>\n",
       "    <tr>\n",
       "      <th>3</th>\n",
       "      <td>25</td>\n",
       "      <td>[9, 30, 31, 33, 34]</td>\n",
       "    </tr>\n",
       "  </tbody>\n",
       "</table>\n",
       "</div>"
      ],
      "text/plain": [
       "   community           border_nodes\n",
       "0          5  [1, 2, 3, 10, 14, 20]\n",
       "1          4          [5, 6, 7, 11]\n",
       "2         11       [24, 29, 32, 28]\n",
       "3         25    [9, 30, 31, 33, 34]"
      ]
     },
     "execution_count": 12,
     "metadata": {},
     "output_type": "execute_result"
    }
   ],
   "source": [
    "query = \"\"\"\n",
    "MATCH (n:Node)\n",
    "MATCH (n)-[r:RELATED_TO]-(m:Node)\n",
    "WHERE n.community <> m.community\n",
    "WITH n.community as community, n.id as nodeId\n",
    "RETURN DISTINCT community, collect(DISTINCT nodeId) as border_nodes\n",
    "\"\"\"\n",
    "\n",
    "session = driver.session(database = database_name)\n",
    "dtf_data = pd.DataFrame([dict(_) for _ in session.run(query)])\n",
    "dtf_data.head()"
   ]
  },
  {
   "cell_type": "code",
   "execution_count": null,
   "metadata": {},
   "outputs": [],
   "source": []
  }
 ],
 "metadata": {
  "kernelspec": {
   "display_name": "Python 3 (ipykernel)",
   "language": "python",
   "name": "python3"
  },
  "language_info": {
   "codemirror_mode": {
    "name": "ipython",
    "version": 3
   },
   "file_extension": ".py",
   "mimetype": "text/x-python",
   "name": "python",
   "nbconvert_exporter": "python",
   "pygments_lexer": "ipython3",
   "version": "3.9.7"
  }
 },
 "nbformat": 4,
 "nbformat_minor": 4
}
